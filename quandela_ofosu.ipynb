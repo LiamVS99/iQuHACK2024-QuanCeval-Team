{
 "cells": [
  {
   "cell_type": "code",
   "execution_count": null,
   "metadata": {},
   "outputs": [],
   "source": [
    "import math\n",
    "from . import perceval as pcvl\n",
    "import numpy as np\n",
    "from tqdm.auto import  tqdm\n",
    "import matplotlib as matplotlib"
   ]
  }
 ],
 "metadata": {
  "language_info": {
   "name": "python"
  }
 },
 "nbformat": 4,
 "nbformat_minor": 2
}
